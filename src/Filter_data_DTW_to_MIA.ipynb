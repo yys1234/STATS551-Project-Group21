{
 "cells": [
  {
   "cell_type": "code",
   "execution_count": 1,
   "id": "7924bfe1-b3f8-46f8-ac85-b9ee75b66f45",
   "metadata": {},
   "outputs": [],
   "source": [
    "import numpy as np\n",
    "import pandas as pd"
   ]
  },
  {
   "cell_type": "code",
   "execution_count": 2,
   "id": "e37a5dde-d4b1-4274-91b3-5e6020005c3e",
   "metadata": {},
   "outputs": [],
   "source": [
    "chunksize = 10**5\n",
    "df = pd.DataFrame()\n",
    "with pd.read_csv('dataset/itineraries.csv', chunksize = chunksize) as reader:\n",
    "    for chunk in reader:\n",
    "        chunk = chunk[(chunk['startingAirport'] == 'DTW') & (chunk['destinationAirport'] == 'MIA')]\n",
    "        df = pd.concat([df, chunk])"
   ]
  },
  {
   "cell_type": "code",
   "execution_count": 3,
   "id": "554fe1b3-37cc-4d60-8c83-793bbd5c532e",
   "metadata": {},
   "outputs": [
    {
     "data": {
      "text/plain": [
       "(289413, 27)"
      ]
     },
     "execution_count": 3,
     "metadata": {},
     "output_type": "execute_result"
    }
   ],
   "source": [
    "df.shape"
   ]
  },
  {
   "cell_type": "code",
   "execution_count": 5,
   "id": "0dd0b941-fa6a-4355-9bc1-d3438fc0e533",
   "metadata": {},
   "outputs": [],
   "source": [
    "df.to_csv('dataset/DTW_to_MIA.csv')"
   ]
  }
 ],
 "metadata": {
  "kernelspec": {
   "display_name": "Python 3 (ipykernel)",
   "language": "python",
   "name": "python3"
  },
  "language_info": {
   "codemirror_mode": {
    "name": "ipython",
    "version": 3
   },
   "file_extension": ".py",
   "mimetype": "text/x-python",
   "name": "python",
   "nbconvert_exporter": "python",
   "pygments_lexer": "ipython3",
   "version": "3.8.12"
  }
 },
 "nbformat": 4,
 "nbformat_minor": 5
}
